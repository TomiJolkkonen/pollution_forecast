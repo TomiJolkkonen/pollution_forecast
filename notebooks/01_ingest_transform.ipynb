{
  "cells": [
    {
      "cell_type": "markdown",
      "metadata": {},
      "source": [
        "# pollution_forecast \u2014 01_ingest_transform\nThis notebook ingests raw CSV, performs basic cleaning, and writes curated parquet files suitable for Fabric Lakehouse or ADLS Gen2."
      ]
    },
    {
      "cell_type": "code",
      "metadata": {},
      "source": [
        "from pyspark.sql import SparkSession\n",
        "spark = SparkSession.builder.appName('ingest').getOrCreate()\n",
        "df = spark.read.option('header',True).option('inferSchema',True).csv('../data/pollution_forecast_sample.csv')\n",
        "display(df.limit(5))\n",
        "# Basic cleaning example\n",
        "df2 = df.na.fill('Unknown')\n",
        "out_path = '../lake/curated/pollution_forecast'\n",
        "df2.write.mode('overwrite').parquet(out_path)\n",
        "print('Wrote to', out_path)\n"
      ]
    }
  ],
  "metadata": {
    "kernelspec": {
      "name": "python3",
      "display_name": "Python 3"
    },
    "language_info": {
      "name": "python"
    }
  },
  "nbformat": 4,
  "nbformat_minor": 5
}