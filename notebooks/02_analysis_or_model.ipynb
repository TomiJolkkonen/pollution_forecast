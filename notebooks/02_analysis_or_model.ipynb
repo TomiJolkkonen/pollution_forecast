{
  "cells": [
    {
      "cell_type": "markdown",
      "metadata": {},
      "source": [
        "# pollution_forecast \u2014 02_analysis_or_model\nExploratory analysis / simple model."
      ]
    },
    {
      "cell_type": "code",
      "metadata": {},
      "source": [
        "from pyspark.sql import SparkSession\n",
        "spark = SparkSession.builder.appName('analysis').getOrCreate()\n",
        "df = spark.read.parquet('../lake/curated/pollution_forecast')\n",
        "df.printSchema()\n",
        "display(df.limit(10))\n"
      ]
    }
  ],
  "metadata": {
    "kernelspec": {
      "name": "python3",
      "display_name": "Python 3"
    },
    "language_info": {
      "name": "python"
    }
  },
  "nbformat": 4,
  "nbformat_minor": 5
}